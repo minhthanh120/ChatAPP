{
 "cells": [
  {
   "cell_type": "code",
   "execution_count": 3,
   "metadata": {},
   "outputs": [
    {
     "name": "stdout",
     "output_type": "stream",
     "text": [
      "2023-07-19 11:30:04,008 INFO sqlalchemy.engine.Engine BEGIN (implicit)\n",
      "2023-07-19 11:30:04,010 INFO sqlalchemy.engine.Engine SELECT [JoinedMember].[Id] AS [JoinedMember_Id], [JoinedMember].[GroupId] AS [JoinedMember_GroupId], [JoinedMember].[MemberId] AS [JoinedMember_MemberId], [JoinedMember].[JoinedTime] AS [JoinedMember_JoinedTime], [JoinedMember].[Role] AS [JoinedMember_Role] \n",
      "FROM [JoinedMember] JOIN [UserInfo] ON [UserInfo].[Id] = [JoinedMember].[MemberId] JOIN [Group] ON [Group].[Id] = [JoinedMember].[GroupId] \n",
      "WHERE [JoinedMember].[GroupId] = ?\n",
      "2023-07-19 11:30:04,012 INFO sqlalchemy.engine.Engine [cached since 40.11s ago] ('C106161E-87FE-4F97-B4F0-2C40F2723F68',)\n",
      "[<database.models.JoinedMember object at 0x00000144F2164CD0>, <database.models.JoinedMember object at 0x00000144F2164ED0>, <database.models.JoinedMember object at 0x00000144F2164F50>, <database.models.JoinedMember object at 0x00000144F2164FD0>, <database.models.JoinedMember object at 0x00000144F2165050>, <database.models.JoinedMember object at 0x00000144F2165110>, <database.models.JoinedMember object at 0x00000144F2165190>, <database.models.JoinedMember object at 0x00000144F2165210>, <database.models.JoinedMember object at 0x00000144F2165290>, <database.models.JoinedMember object at 0x00000144F21650D0>, <database.models.JoinedMember object at 0x00000144F2165350>]\n"
     ]
    }
   ],
   "source": [
    "from sqlalchemy import select, desc, text, func\n",
    "from fastapi.encoders import jsonable_encoder\n",
    "from database.models import Session, Group, JoinedMember, User, Message\n",
    "\n",
    "session = Session()\n",
    "\n",
    "\n",
    "\n",
    "groups = session.query(JoinedMember).join(JoinedMember.member).join(JoinedMember.group).filter(JoinedMember.groupId == 'C106161E-87FE-4F97-B4F0-2C40F2723F68')\n",
    "print(groups.all())"
   ]
  },
  {
   "cell_type": "code",
   "execution_count": 9,
   "metadata": {},
   "outputs": [
    {
     "name": "stdout",
     "output_type": "stream",
     "text": [
      "2023-07-19 11:42:50,455 INFO sqlalchemy.engine.Engine SELECT [Group].[Id] AS [Group_Id], [Group].[GroupName] AS [Group_GroupName], [Group].[CreatedTime] AS [Group_CreatedTime], [Group].[CreatorId] AS [Group_CreatorId] \n",
      "FROM [Group] \n",
      "WHERE [Group].[GroupName] != ?\n",
      "2023-07-19 11:42:50,458 INFO sqlalchemy.engine.Engine [cached since 647.2s ago] ('',)\n",
      "<database.models.Group object at 0x00000144F216ABD0>\n",
      "<database.models.Group object at 0x00000144F2167F90>\n",
      "<database.models.Group object at 0x00000144F2167CD0>\n",
      "<database.models.Group object at 0x00000144F2167950>\n",
      "<database.models.Group object at 0x00000144F2167B50>\n",
      "<database.models.Group object at 0x00000144F2167910>\n",
      "<database.models.Group object at 0x00000144F2167410>\n",
      "<database.models.Group object at 0x00000144F2167450>\n",
      "<database.models.Group object at 0x00000144F217AD10>\n",
      "<database.models.Group object at 0x00000144F217ADD0>\n",
      "<database.models.Group object at 0x00000144F217A590>\n",
      "<database.models.Group object at 0x00000144F2164390>\n"
     ]
    }
   ],
   "source": [
    "query = session.query(Group)\n",
    "st_group = query.filter(Group.groupName != \"\")\n",
    "for i in st_group.all():\n",
    "    print(i)"
   ]
  },
  {
   "cell_type": "code",
   "execution_count": 15,
   "metadata": {},
   "outputs": [
    {
     "name": "stdout",
     "output_type": "stream",
     "text": [
      "2023-07-19 11:57:44,652 INFO sqlalchemy.engine.Engine SELECT [UserInfo].[Id] AS [UserInfo_Id], [UserInfo].[UserName] AS [UserInfo_UserName], [UserInfo].[FirstName] AS [UserInfo_FirstName], [UserInfo].[LastName] AS [UserInfo_LastName], [UserInfo].[Email] AS [UserInfo_Email], [UserInfo].[Avatar] AS [UserInfo_Avatar], [UserInfo].[Phone] AS [UserInfo_Phone], [UserInfo].[JoinedDate] AS [UserInfo_JoinedDate], sum([UserInfo].[Id] = [JoinedMember].[MemberId]) AS joined \n",
      "FROM [UserInfo] JOIN [JoinedMember] ON [UserInfo].[Id] = [JoinedMember].[MemberId]\n",
      "2023-07-19 11:57:44,654 INFO sqlalchemy.engine.Engine [generated in 0.00305s] ()\n"
     ]
    },
    {
     "ename": "ProgrammingError",
     "evalue": "(pyodbc.ProgrammingError) ('42000', \"[42000] [Microsoft][ODBC Driver 17 for SQL Server][SQL Server]Incorrect syntax near ')'. (102) (SQLExecDirectW)\")\n[SQL: SELECT [UserInfo].[Id] AS [UserInfo_Id], [UserInfo].[UserName] AS [UserInfo_UserName], [UserInfo].[FirstName] AS [UserInfo_FirstName], [UserInfo].[LastName] AS [UserInfo_LastName], [UserInfo].[Email] AS [UserInfo_Email], [UserInfo].[Avatar] AS [UserInfo_Avatar], [UserInfo].[Phone] AS [UserInfo_Phone], [UserInfo].[JoinedDate] AS [UserInfo_JoinedDate], sum([UserInfo].[Id] = [JoinedMember].[MemberId]) AS joined \nFROM [UserInfo] JOIN [JoinedMember] ON [UserInfo].[Id] = [JoinedMember].[MemberId]]\n(Background on this error at: https://sqlalche.me/e/20/f405)",
     "output_type": "error",
     "traceback": [
      "\u001b[1;31m---------------------------------------------------------------------------\u001b[0m",
      "\u001b[1;31mProgrammingError\u001b[0m                          Traceback (most recent call last)",
      "File \u001b[1;32md:\\Document\\Python\\ChatAPP\\backend\\venv\\Lib\\site-packages\\sqlalchemy\\engine\\base.py:1968\u001b[0m, in \u001b[0;36mConnection._exec_single_context\u001b[1;34m(self, dialect, context, statement, parameters)\u001b[0m\n\u001b[0;32m   1967\u001b[0m     \u001b[39mif\u001b[39;00m \u001b[39mnot\u001b[39;00m evt_handled:\n\u001b[1;32m-> 1968\u001b[0m         \u001b[39mself\u001b[39;49m\u001b[39m.\u001b[39;49mdialect\u001b[39m.\u001b[39;49mdo_execute(\n\u001b[0;32m   1969\u001b[0m             cursor, str_statement, effective_parameters, context\n\u001b[0;32m   1970\u001b[0m         )\n\u001b[0;32m   1972\u001b[0m \u001b[39mif\u001b[39;00m \u001b[39mself\u001b[39m\u001b[39m.\u001b[39m_has_events \u001b[39mor\u001b[39;00m \u001b[39mself\u001b[39m\u001b[39m.\u001b[39mengine\u001b[39m.\u001b[39m_has_events:\n",
      "File \u001b[1;32md:\\Document\\Python\\ChatAPP\\backend\\venv\\Lib\\site-packages\\sqlalchemy\\engine\\default.py:920\u001b[0m, in \u001b[0;36mDefaultDialect.do_execute\u001b[1;34m(self, cursor, statement, parameters, context)\u001b[0m\n\u001b[0;32m    919\u001b[0m \u001b[39mdef\u001b[39;00m \u001b[39mdo_execute\u001b[39m(\u001b[39mself\u001b[39m, cursor, statement, parameters, context\u001b[39m=\u001b[39m\u001b[39mNone\u001b[39;00m):\n\u001b[1;32m--> 920\u001b[0m     cursor\u001b[39m.\u001b[39;49mexecute(statement, parameters)\n",
      "\u001b[1;31mProgrammingError\u001b[0m: ('42000', \"[42000] [Microsoft][ODBC Driver 17 for SQL Server][SQL Server]Incorrect syntax near ')'. (102) (SQLExecDirectW)\")",
      "\nThe above exception was the direct cause of the following exception:\n",
      "\u001b[1;31mProgrammingError\u001b[0m                          Traceback (most recent call last)",
      "Cell \u001b[1;32mIn[15], line 1\u001b[0m\n\u001b[1;32m----> 1\u001b[0m query \u001b[39m=\u001b[39m session\u001b[39m.\u001b[39;49mquery(User, func\u001b[39m.\u001b[39;49msum(User\u001b[39m.\u001b[39;49mjoinedGroup)\u001b[39m.\u001b[39;49mlabel(\u001b[39m'\u001b[39;49m\u001b[39mjoined\u001b[39;49m\u001b[39m'\u001b[39;49m))\u001b[39m.\u001b[39;49mjoin(User\u001b[39m.\u001b[39;49mjoinedGroup)\u001b[39m.\u001b[39;49mall()\n",
      "File \u001b[1;32md:\\Document\\Python\\ChatAPP\\backend\\venv\\Lib\\site-packages\\sqlalchemy\\orm\\query.py:2692\u001b[0m, in \u001b[0;36mQuery.all\u001b[1;34m(self)\u001b[0m\n\u001b[0;32m   2670\u001b[0m \u001b[39mdef\u001b[39;00m \u001b[39mall\u001b[39m(\u001b[39mself\u001b[39m) \u001b[39m-\u001b[39m\u001b[39m>\u001b[39m List[_T]:\n\u001b[0;32m   2671\u001b[0m \u001b[39m    \u001b[39m\u001b[39m\"\"\"Return the results represented by this :class:`_query.Query`\u001b[39;00m\n\u001b[0;32m   2672\u001b[0m \u001b[39m    as a list.\u001b[39;00m\n\u001b[0;32m   2673\u001b[0m \n\u001b[1;32m   (...)\u001b[0m\n\u001b[0;32m   2690\u001b[0m \u001b[39m        :meth:`_engine.Result.scalars` - v2 comparable method.\u001b[39;00m\n\u001b[0;32m   2691\u001b[0m \u001b[39m    \"\"\"\u001b[39;00m\n\u001b[1;32m-> 2692\u001b[0m     \u001b[39mreturn\u001b[39;00m \u001b[39mself\u001b[39;49m\u001b[39m.\u001b[39;49m_iter()\u001b[39m.\u001b[39mall()\n",
      "File \u001b[1;32md:\\Document\\Python\\ChatAPP\\backend\\venv\\Lib\\site-packages\\sqlalchemy\\orm\\query.py:2846\u001b[0m, in \u001b[0;36mQuery._iter\u001b[1;34m(self)\u001b[0m\n\u001b[0;32m   2843\u001b[0m params \u001b[39m=\u001b[39m \u001b[39mself\u001b[39m\u001b[39m.\u001b[39m_params\n\u001b[0;32m   2845\u001b[0m statement \u001b[39m=\u001b[39m \u001b[39mself\u001b[39m\u001b[39m.\u001b[39m_statement_20()\n\u001b[1;32m-> 2846\u001b[0m result: Union[ScalarResult[_T], Result[_T]] \u001b[39m=\u001b[39m \u001b[39mself\u001b[39;49m\u001b[39m.\u001b[39;49msession\u001b[39m.\u001b[39;49mexecute(\n\u001b[0;32m   2847\u001b[0m     statement,\n\u001b[0;32m   2848\u001b[0m     params,\n\u001b[0;32m   2849\u001b[0m     execution_options\u001b[39m=\u001b[39;49m{\u001b[39m\"\u001b[39;49m\u001b[39m_sa_orm_load_options\u001b[39;49m\u001b[39m\"\u001b[39;49m: \u001b[39mself\u001b[39;49m\u001b[39m.\u001b[39;49mload_options},\n\u001b[0;32m   2850\u001b[0m )\n\u001b[0;32m   2852\u001b[0m \u001b[39m# legacy: automatically set scalars, unique\u001b[39;00m\n\u001b[0;32m   2853\u001b[0m \u001b[39mif\u001b[39;00m result\u001b[39m.\u001b[39m_attributes\u001b[39m.\u001b[39mget(\u001b[39m\"\u001b[39m\u001b[39mis_single_entity\u001b[39m\u001b[39m\"\u001b[39m, \u001b[39mFalse\u001b[39;00m):\n",
      "File \u001b[1;32md:\\Document\\Python\\ChatAPP\\backend\\venv\\Lib\\site-packages\\sqlalchemy\\orm\\session.py:2232\u001b[0m, in \u001b[0;36mSession.execute\u001b[1;34m(self, statement, params, execution_options, bind_arguments, _parent_execute_state, _add_event)\u001b[0m\n\u001b[0;32m   2171\u001b[0m \u001b[39mdef\u001b[39;00m \u001b[39mexecute\u001b[39m(\n\u001b[0;32m   2172\u001b[0m     \u001b[39mself\u001b[39m,\n\u001b[0;32m   2173\u001b[0m     statement: Executable,\n\u001b[1;32m   (...)\u001b[0m\n\u001b[0;32m   2179\u001b[0m     _add_event: Optional[Any] \u001b[39m=\u001b[39m \u001b[39mNone\u001b[39;00m,\n\u001b[0;32m   2180\u001b[0m ) \u001b[39m-\u001b[39m\u001b[39m>\u001b[39m Result[Any]:\n\u001b[0;32m   2181\u001b[0m \u001b[39m    \u001b[39m\u001b[39mr\u001b[39m\u001b[39m\"\"\"Execute a SQL expression construct.\u001b[39;00m\n\u001b[0;32m   2182\u001b[0m \n\u001b[0;32m   2183\u001b[0m \u001b[39m    Returns a :class:`_engine.Result` object representing\u001b[39;00m\n\u001b[1;32m   (...)\u001b[0m\n\u001b[0;32m   2230\u001b[0m \n\u001b[0;32m   2231\u001b[0m \u001b[39m    \"\"\"\u001b[39;00m\n\u001b[1;32m-> 2232\u001b[0m     \u001b[39mreturn\u001b[39;00m \u001b[39mself\u001b[39;49m\u001b[39m.\u001b[39;49m_execute_internal(\n\u001b[0;32m   2233\u001b[0m         statement,\n\u001b[0;32m   2234\u001b[0m         params,\n\u001b[0;32m   2235\u001b[0m         execution_options\u001b[39m=\u001b[39;49mexecution_options,\n\u001b[0;32m   2236\u001b[0m         bind_arguments\u001b[39m=\u001b[39;49mbind_arguments,\n\u001b[0;32m   2237\u001b[0m         _parent_execute_state\u001b[39m=\u001b[39;49m_parent_execute_state,\n\u001b[0;32m   2238\u001b[0m         _add_event\u001b[39m=\u001b[39;49m_add_event,\n\u001b[0;32m   2239\u001b[0m     )\n",
      "File \u001b[1;32md:\\Document\\Python\\ChatAPP\\backend\\venv\\Lib\\site-packages\\sqlalchemy\\orm\\session.py:2127\u001b[0m, in \u001b[0;36mSession._execute_internal\u001b[1;34m(self, statement, params, execution_options, bind_arguments, _parent_execute_state, _add_event, _scalar_result)\u001b[0m\n\u001b[0;32m   2122\u001b[0m     \u001b[39mreturn\u001b[39;00m conn\u001b[39m.\u001b[39mscalar(\n\u001b[0;32m   2123\u001b[0m         statement, params \u001b[39mor\u001b[39;00m {}, execution_options\u001b[39m=\u001b[39mexecution_options\n\u001b[0;32m   2124\u001b[0m     )\n\u001b[0;32m   2126\u001b[0m \u001b[39mif\u001b[39;00m compile_state_cls:\n\u001b[1;32m-> 2127\u001b[0m     result: Result[Any] \u001b[39m=\u001b[39m compile_state_cls\u001b[39m.\u001b[39;49morm_execute_statement(\n\u001b[0;32m   2128\u001b[0m         \u001b[39mself\u001b[39;49m,\n\u001b[0;32m   2129\u001b[0m         statement,\n\u001b[0;32m   2130\u001b[0m         params \u001b[39mor\u001b[39;49;00m {},\n\u001b[0;32m   2131\u001b[0m         execution_options,\n\u001b[0;32m   2132\u001b[0m         bind_arguments,\n\u001b[0;32m   2133\u001b[0m         conn,\n\u001b[0;32m   2134\u001b[0m     )\n\u001b[0;32m   2135\u001b[0m \u001b[39melse\u001b[39;00m:\n\u001b[0;32m   2136\u001b[0m     result \u001b[39m=\u001b[39m conn\u001b[39m.\u001b[39mexecute(\n\u001b[0;32m   2137\u001b[0m         statement, params \u001b[39mor\u001b[39;00m {}, execution_options\u001b[39m=\u001b[39mexecution_options\n\u001b[0;32m   2138\u001b[0m     )\n",
      "File \u001b[1;32md:\\Document\\Python\\ChatAPP\\backend\\venv\\Lib\\site-packages\\sqlalchemy\\orm\\context.py:293\u001b[0m, in \u001b[0;36mAbstractORMCompileState.orm_execute_statement\u001b[1;34m(cls, session, statement, params, execution_options, bind_arguments, conn)\u001b[0m\n\u001b[0;32m    283\u001b[0m \u001b[39m@classmethod\u001b[39m\n\u001b[0;32m    284\u001b[0m \u001b[39mdef\u001b[39;00m \u001b[39morm_execute_statement\u001b[39m(\n\u001b[0;32m    285\u001b[0m     \u001b[39mcls\u001b[39m,\n\u001b[1;32m   (...)\u001b[0m\n\u001b[0;32m    291\u001b[0m     conn,\n\u001b[0;32m    292\u001b[0m ) \u001b[39m-\u001b[39m\u001b[39m>\u001b[39m Result:\n\u001b[1;32m--> 293\u001b[0m     result \u001b[39m=\u001b[39m conn\u001b[39m.\u001b[39;49mexecute(\n\u001b[0;32m    294\u001b[0m         statement, params \u001b[39mor\u001b[39;49;00m {}, execution_options\u001b[39m=\u001b[39;49mexecution_options\n\u001b[0;32m    295\u001b[0m     )\n\u001b[0;32m    296\u001b[0m     \u001b[39mreturn\u001b[39;00m \u001b[39mcls\u001b[39m\u001b[39m.\u001b[39morm_setup_cursor_result(\n\u001b[0;32m    297\u001b[0m         session,\n\u001b[0;32m    298\u001b[0m         statement,\n\u001b[1;32m   (...)\u001b[0m\n\u001b[0;32m    302\u001b[0m         result,\n\u001b[0;32m    303\u001b[0m     )\n",
      "File \u001b[1;32md:\\Document\\Python\\ChatAPP\\backend\\venv\\Lib\\site-packages\\sqlalchemy\\engine\\base.py:1413\u001b[0m, in \u001b[0;36mConnection.execute\u001b[1;34m(self, statement, parameters, execution_options)\u001b[0m\n\u001b[0;32m   1411\u001b[0m     \u001b[39mraise\u001b[39;00m exc\u001b[39m.\u001b[39mObjectNotExecutableError(statement) \u001b[39mfrom\u001b[39;00m \u001b[39merr\u001b[39;00m\n\u001b[0;32m   1412\u001b[0m \u001b[39melse\u001b[39;00m:\n\u001b[1;32m-> 1413\u001b[0m     \u001b[39mreturn\u001b[39;00m meth(\n\u001b[0;32m   1414\u001b[0m         \u001b[39mself\u001b[39;49m,\n\u001b[0;32m   1415\u001b[0m         distilled_parameters,\n\u001b[0;32m   1416\u001b[0m         execution_options \u001b[39mor\u001b[39;49;00m NO_OPTIONS,\n\u001b[0;32m   1417\u001b[0m     )\n",
      "File \u001b[1;32md:\\Document\\Python\\ChatAPP\\backend\\venv\\Lib\\site-packages\\sqlalchemy\\sql\\elements.py:483\u001b[0m, in \u001b[0;36mClauseElement._execute_on_connection\u001b[1;34m(self, connection, distilled_params, execution_options)\u001b[0m\n\u001b[0;32m    481\u001b[0m     \u001b[39mif\u001b[39;00m TYPE_CHECKING:\n\u001b[0;32m    482\u001b[0m         \u001b[39massert\u001b[39;00m \u001b[39misinstance\u001b[39m(\u001b[39mself\u001b[39m, Executable)\n\u001b[1;32m--> 483\u001b[0m     \u001b[39mreturn\u001b[39;00m connection\u001b[39m.\u001b[39;49m_execute_clauseelement(\n\u001b[0;32m    484\u001b[0m         \u001b[39mself\u001b[39;49m, distilled_params, execution_options\n\u001b[0;32m    485\u001b[0m     )\n\u001b[0;32m    486\u001b[0m \u001b[39melse\u001b[39;00m:\n\u001b[0;32m    487\u001b[0m     \u001b[39mraise\u001b[39;00m exc\u001b[39m.\u001b[39mObjectNotExecutableError(\u001b[39mself\u001b[39m)\n",
      "File \u001b[1;32md:\\Document\\Python\\ChatAPP\\backend\\venv\\Lib\\site-packages\\sqlalchemy\\engine\\base.py:1637\u001b[0m, in \u001b[0;36mConnection._execute_clauseelement\u001b[1;34m(self, elem, distilled_parameters, execution_options)\u001b[0m\n\u001b[0;32m   1625\u001b[0m compiled_cache: Optional[CompiledCacheType] \u001b[39m=\u001b[39m execution_options\u001b[39m.\u001b[39mget(\n\u001b[0;32m   1626\u001b[0m     \u001b[39m\"\u001b[39m\u001b[39mcompiled_cache\u001b[39m\u001b[39m\"\u001b[39m, \u001b[39mself\u001b[39m\u001b[39m.\u001b[39mengine\u001b[39m.\u001b[39m_compiled_cache\n\u001b[0;32m   1627\u001b[0m )\n\u001b[0;32m   1629\u001b[0m compiled_sql, extracted_params, cache_hit \u001b[39m=\u001b[39m elem\u001b[39m.\u001b[39m_compile_w_cache(\n\u001b[0;32m   1630\u001b[0m     dialect\u001b[39m=\u001b[39mdialect,\n\u001b[0;32m   1631\u001b[0m     compiled_cache\u001b[39m=\u001b[39mcompiled_cache,\n\u001b[1;32m   (...)\u001b[0m\n\u001b[0;32m   1635\u001b[0m     linting\u001b[39m=\u001b[39m\u001b[39mself\u001b[39m\u001b[39m.\u001b[39mdialect\u001b[39m.\u001b[39mcompiler_linting \u001b[39m|\u001b[39m compiler\u001b[39m.\u001b[39mWARN_LINTING,\n\u001b[0;32m   1636\u001b[0m )\n\u001b[1;32m-> 1637\u001b[0m ret \u001b[39m=\u001b[39m \u001b[39mself\u001b[39;49m\u001b[39m.\u001b[39;49m_execute_context(\n\u001b[0;32m   1638\u001b[0m     dialect,\n\u001b[0;32m   1639\u001b[0m     dialect\u001b[39m.\u001b[39;49mexecution_ctx_cls\u001b[39m.\u001b[39;49m_init_compiled,\n\u001b[0;32m   1640\u001b[0m     compiled_sql,\n\u001b[0;32m   1641\u001b[0m     distilled_parameters,\n\u001b[0;32m   1642\u001b[0m     execution_options,\n\u001b[0;32m   1643\u001b[0m     compiled_sql,\n\u001b[0;32m   1644\u001b[0m     distilled_parameters,\n\u001b[0;32m   1645\u001b[0m     elem,\n\u001b[0;32m   1646\u001b[0m     extracted_params,\n\u001b[0;32m   1647\u001b[0m     cache_hit\u001b[39m=\u001b[39;49mcache_hit,\n\u001b[0;32m   1648\u001b[0m )\n\u001b[0;32m   1649\u001b[0m \u001b[39mif\u001b[39;00m has_events:\n\u001b[0;32m   1650\u001b[0m     \u001b[39mself\u001b[39m\u001b[39m.\u001b[39mdispatch\u001b[39m.\u001b[39mafter_execute(\n\u001b[0;32m   1651\u001b[0m         \u001b[39mself\u001b[39m,\n\u001b[0;32m   1652\u001b[0m         elem,\n\u001b[1;32m   (...)\u001b[0m\n\u001b[0;32m   1656\u001b[0m         ret,\n\u001b[0;32m   1657\u001b[0m     )\n",
      "File \u001b[1;32md:\\Document\\Python\\ChatAPP\\backend\\venv\\Lib\\site-packages\\sqlalchemy\\engine\\base.py:1846\u001b[0m, in \u001b[0;36mConnection._execute_context\u001b[1;34m(self, dialect, constructor, statement, parameters, execution_options, *args, **kw)\u001b[0m\n\u001b[0;32m   1841\u001b[0m     \u001b[39mreturn\u001b[39;00m \u001b[39mself\u001b[39m\u001b[39m.\u001b[39m_exec_insertmany_context(\n\u001b[0;32m   1842\u001b[0m         dialect,\n\u001b[0;32m   1843\u001b[0m         context,\n\u001b[0;32m   1844\u001b[0m     )\n\u001b[0;32m   1845\u001b[0m \u001b[39melse\u001b[39;00m:\n\u001b[1;32m-> 1846\u001b[0m     \u001b[39mreturn\u001b[39;00m \u001b[39mself\u001b[39;49m\u001b[39m.\u001b[39;49m_exec_single_context(\n\u001b[0;32m   1847\u001b[0m         dialect, context, statement, parameters\n\u001b[0;32m   1848\u001b[0m     )\n",
      "File \u001b[1;32md:\\Document\\Python\\ChatAPP\\backend\\venv\\Lib\\site-packages\\sqlalchemy\\engine\\base.py:1987\u001b[0m, in \u001b[0;36mConnection._exec_single_context\u001b[1;34m(self, dialect, context, statement, parameters)\u001b[0m\n\u001b[0;32m   1984\u001b[0m     result \u001b[39m=\u001b[39m context\u001b[39m.\u001b[39m_setup_result_proxy()\n\u001b[0;32m   1986\u001b[0m \u001b[39mexcept\u001b[39;00m \u001b[39mBaseException\u001b[39;00m \u001b[39mas\u001b[39;00m e:\n\u001b[1;32m-> 1987\u001b[0m     \u001b[39mself\u001b[39;49m\u001b[39m.\u001b[39;49m_handle_dbapi_exception(\n\u001b[0;32m   1988\u001b[0m         e, str_statement, effective_parameters, cursor, context\n\u001b[0;32m   1989\u001b[0m     )\n\u001b[0;32m   1991\u001b[0m \u001b[39mreturn\u001b[39;00m result\n",
      "File \u001b[1;32md:\\Document\\Python\\ChatAPP\\backend\\venv\\Lib\\site-packages\\sqlalchemy\\engine\\base.py:2344\u001b[0m, in \u001b[0;36mConnection._handle_dbapi_exception\u001b[1;34m(self, e, statement, parameters, cursor, context, is_sub_exec)\u001b[0m\n\u001b[0;32m   2342\u001b[0m \u001b[39melif\u001b[39;00m should_wrap:\n\u001b[0;32m   2343\u001b[0m     \u001b[39massert\u001b[39;00m sqlalchemy_exception \u001b[39mis\u001b[39;00m \u001b[39mnot\u001b[39;00m \u001b[39mNone\u001b[39;00m\n\u001b[1;32m-> 2344\u001b[0m     \u001b[39mraise\u001b[39;00m sqlalchemy_exception\u001b[39m.\u001b[39mwith_traceback(exc_info[\u001b[39m2\u001b[39m]) \u001b[39mfrom\u001b[39;00m \u001b[39me\u001b[39;00m\n\u001b[0;32m   2345\u001b[0m \u001b[39melse\u001b[39;00m:\n\u001b[0;32m   2346\u001b[0m     \u001b[39massert\u001b[39;00m exc_info[\u001b[39m1\u001b[39m] \u001b[39mis\u001b[39;00m \u001b[39mnot\u001b[39;00m \u001b[39mNone\u001b[39;00m\n",
      "File \u001b[1;32md:\\Document\\Python\\ChatAPP\\backend\\venv\\Lib\\site-packages\\sqlalchemy\\engine\\base.py:1968\u001b[0m, in \u001b[0;36mConnection._exec_single_context\u001b[1;34m(self, dialect, context, statement, parameters)\u001b[0m\n\u001b[0;32m   1966\u001b[0m                 \u001b[39mbreak\u001b[39;00m\n\u001b[0;32m   1967\u001b[0m     \u001b[39mif\u001b[39;00m \u001b[39mnot\u001b[39;00m evt_handled:\n\u001b[1;32m-> 1968\u001b[0m         \u001b[39mself\u001b[39;49m\u001b[39m.\u001b[39;49mdialect\u001b[39m.\u001b[39;49mdo_execute(\n\u001b[0;32m   1969\u001b[0m             cursor, str_statement, effective_parameters, context\n\u001b[0;32m   1970\u001b[0m         )\n\u001b[0;32m   1972\u001b[0m \u001b[39mif\u001b[39;00m \u001b[39mself\u001b[39m\u001b[39m.\u001b[39m_has_events \u001b[39mor\u001b[39;00m \u001b[39mself\u001b[39m\u001b[39m.\u001b[39mengine\u001b[39m.\u001b[39m_has_events:\n\u001b[0;32m   1973\u001b[0m     \u001b[39mself\u001b[39m\u001b[39m.\u001b[39mdispatch\u001b[39m.\u001b[39mafter_cursor_execute(\n\u001b[0;32m   1974\u001b[0m         \u001b[39mself\u001b[39m,\n\u001b[0;32m   1975\u001b[0m         cursor,\n\u001b[1;32m   (...)\u001b[0m\n\u001b[0;32m   1979\u001b[0m         context\u001b[39m.\u001b[39mexecutemany,\n\u001b[0;32m   1980\u001b[0m     )\n",
      "File \u001b[1;32md:\\Document\\Python\\ChatAPP\\backend\\venv\\Lib\\site-packages\\sqlalchemy\\engine\\default.py:920\u001b[0m, in \u001b[0;36mDefaultDialect.do_execute\u001b[1;34m(self, cursor, statement, parameters, context)\u001b[0m\n\u001b[0;32m    919\u001b[0m \u001b[39mdef\u001b[39;00m \u001b[39mdo_execute\u001b[39m(\u001b[39mself\u001b[39m, cursor, statement, parameters, context\u001b[39m=\u001b[39m\u001b[39mNone\u001b[39;00m):\n\u001b[1;32m--> 920\u001b[0m     cursor\u001b[39m.\u001b[39;49mexecute(statement, parameters)\n",
      "\u001b[1;31mProgrammingError\u001b[0m: (pyodbc.ProgrammingError) ('42000', \"[42000] [Microsoft][ODBC Driver 17 for SQL Server][SQL Server]Incorrect syntax near ')'. (102) (SQLExecDirectW)\")\n[SQL: SELECT [UserInfo].[Id] AS [UserInfo_Id], [UserInfo].[UserName] AS [UserInfo_UserName], [UserInfo].[FirstName] AS [UserInfo_FirstName], [UserInfo].[LastName] AS [UserInfo_LastName], [UserInfo].[Email] AS [UserInfo_Email], [UserInfo].[Avatar] AS [UserInfo_Avatar], [UserInfo].[Phone] AS [UserInfo_Phone], [UserInfo].[JoinedDate] AS [UserInfo_JoinedDate], sum([UserInfo].[Id] = [JoinedMember].[MemberId]) AS joined \nFROM [UserInfo] JOIN [JoinedMember] ON [UserInfo].[Id] = [JoinedMember].[MemberId]]\n(Background on this error at: https://sqlalche.me/e/20/f405)"
     ]
    }
   ],
   "source": [
    "query = session.query(User, func.sum(User.joinedGroup).label('joined')).join(User.joinedGroup).all()"
   ]
  }
 ],
 "metadata": {
  "kernelspec": {
   "display_name": "venv",
   "language": "python",
   "name": "python3"
  },
  "language_info": {
   "codemirror_mode": {
    "name": "ipython",
    "version": 3
   },
   "file_extension": ".py",
   "mimetype": "text/x-python",
   "name": "python",
   "nbconvert_exporter": "python",
   "pygments_lexer": "ipython3",
   "version": "3.11.2"
  },
  "orig_nbformat": 4
 },
 "nbformat": 4,
 "nbformat_minor": 2
}
