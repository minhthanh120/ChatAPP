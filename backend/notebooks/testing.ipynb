{
 "cells": [
  {
   "cell_type": "code",
   "execution_count": 66,
   "metadata": {},
   "outputs": [],
   "source": [
    "import json\n",
    "from database.models import Message, Session, JoinedMember, Group\n",
    "from datetime import datetime\n",
    "from sqlalchemy import  select, func\n",
    "from sqlalchemy import desc\n",
    "from sqlalchemy.sql.functions import coalesce\n",
    "\n",
    "def get_session():\n",
    "    session = Session()\n",
    "    try:\n",
    "        yield session\n",
    "    except Exception:\n",
    "        session.rollback()\n",
    "    finally:\n",
    "        session.close()\n",
    "session:Session = get_session().__next__()"
   ]
  },
  {
   "cell_type": "code",
   "execution_count": 2,
   "metadata": {},
   "outputs": [],
   "source": [
    "query = session.query(Group, Message).outerjoin(\n",
    "    Message, Group.id == Message.groupId\n",
    ").group_by(Group.id).order_by(desc(Message.createdTime))"
   ]
  },
  {
   "cell_type": "code",
   "execution_count": null,
   "metadata": {},
   "outputs": [],
   "source": [
    "query.all()"
   ]
  },
  {
   "cell_type": "code",
   "execution_count": 68,
   "metadata": {},
   "outputs": [],
   "source": [
    "lstGrp = session.query(Group.id, Group.groupName, Group.createdTime).join(JoinedMember, Group.id == JoinedMember.groupId).distinct(JoinedMember.groupId).filter(JoinedMember.memberId == '3622BBFB-EE0A-47').subquery()"
   ]
  },
  {
   "cell_type": "code",
   "execution_count": 69,
   "metadata": {},
   "outputs": [
    {
     "name": "stdout",
     "output_type": "stream",
     "text": [
      "2023-09-13 14:20:00,060 INFO sqlalchemy.engine.Engine BEGIN (implicit)\n"
     ]
    },
    {
     "name": "stdout",
     "output_type": "stream",
     "text": [
      "2023-09-13 14:20:00,069 INFO sqlalchemy.engine.Engine SELECT anon_1.[Id] AS [anon_1_Id], anon_1.[GroupName] AS [anon_1_GroupName], anon_1.[CreatedTime] AS [anon_1_CreatedTime] \n",
      "FROM (SELECT DISTINCT [Group].[Id] AS [Id], [Group].[GroupName] AS [GroupName], [Group].[CreatedTime] AS [CreatedTime] \n",
      "FROM [Group] JOIN [JoinedMember] ON [Group].[Id] = [JoinedMember].[GroupId] \n",
      "WHERE [JoinedMember].[MemberId] = ?) AS anon_1\n",
      "2023-09-13 14:20:00,071 INFO sqlalchemy.engine.Engine [generated in 0.00435s] ('3622BBFB-EE0A-47',)\n"
     ]
    },
    {
     "name": "stderr",
     "output_type": "stream",
     "text": [
      "C:\\Users\\MinhThanh\\AppData\\Local\\Temp\\ipykernel_26752\\4044168025.py:1: SADeprecationWarning: DISTINCT ON is currently supported only by the PostgreSQL dialect.  Use of DISTINCT ON for other backends is currently silently ignored, however this usage is deprecated, and will raise CompileError in a future release for all backends that do not support this syntax.\n",
      "  session.query(lstGrp).all()\n"
     ]
    },
    {
     "data": {
      "text/plain": [
       "[('3B75B494-088E-48CB-81EE-DDF6AE090777', 'Nhóm số chín', datetime.datetime(2023, 7, 17, 14, 30, 27, 877000)),\n",
       " ('7D39C19E-47AE-46CF-8AC2-672B9FFE32E2', 'Nhóm số sáu', datetime.datetime(2023, 7, 16, 9, 19, 1, 850000)),\n",
       " ('9448AD90-AD01-4D4E-924C-E7E3D878AB63', '789ten', datetime.datetime(2023, 7, 16, 9, 10, 55, 923000)),\n",
       " ('C106161E-87FE-4F97-B4F0-2C40F2723F68', 'Nhóm số năm', datetime.datetime(2023, 7, 16, 9, 19, 1, 847000)),\n",
       " ('C9F57F41-6FDC-4929-8483-708717800999', 'Nhóm số bốn', datetime.datetime(2023, 7, 16, 9, 10, 55, 930000)),\n",
       " ('DAB5945C-F3CF-4EF4-BB53-84AD52C7F5ED', 'Nhóm số tám', datetime.datetime(2023, 7, 16, 9, 19, 1, 850000)),\n",
       " ('DCF9CCB8-DED0-4D12-BE1F-8467ADB76DFA', 'Nhóm số bảy', datetime.datetime(2023, 7, 16, 9, 19, 1, 850000)),\n",
       " ('EB9E82C9-245F-4177-A8E2-222637F1572F', 'Nhóm số ba', datetime.datetime(2023, 7, 16, 9, 10, 55, 930000)),\n",
       " ('FDA7D486-6EFB-4EFA-9650-C3879978C8B1', 'Nhóm số hai', datetime.datetime(2023, 7, 16, 9, 10, 55, 930000))]"
      ]
     },
     "execution_count": 69,
     "metadata": {},
     "output_type": "execute_result"
    }
   ],
   "source": [
    "session.query(lstGrp).all()"
   ]
  },
  {
   "cell_type": "code",
   "execution_count": 70,
   "metadata": {},
   "outputs": [
    {
     "data": {
      "text/plain": [
       "<sqlalchemy.sql.selectable.Subquery at 0x28becfa9e50; anon_1>"
      ]
     },
     "execution_count": 70,
     "metadata": {},
     "output_type": "execute_result"
    }
   ],
   "source": [
    "subquery = session.query(\n",
    "    func.rank().over(order_by=Message.createdTime.desc(), partition_by=Message.groupId).label('rnk'),\n",
    "    Message.id, Message.content, Message.groupId, Message.senderId, Message.createdTime\n",
    ").subquery()\n",
    "subquery"
   ]
  },
  {
   "cell_type": "code",
   "execution_count": 73,
   "metadata": {},
   "outputs": [],
   "source": [
    "# Query the top-ranked message from each group\n",
    "query = session.query(lstGrp, subquery).outerjoin(\n",
    "    subquery, lstGrp.c.id == subquery.c.groupId, full=True\n",
    ").order_by(coalesce(subquery.c.createdTime, lstGrp.c.createdTime).desc()).filter(\n",
    "    (subquery.c.rnk == 1)| (subquery.c.rnk == None)\n",
    ").all()\n"
   ]
  },
  {
   "cell_type": "code",
   "execution_count": 78,
   "metadata": {},
   "outputs": [],
   "source": [
    "# Execute the query and fetch all results\n",
    "rows = query.all()"
   ]
  },
  {
   "cell_type": "code",
   "execution_count": 84,
   "metadata": {},
   "outputs": [
    {
     "ename": "TypeError",
     "evalue": "dump() missing 1 required positional argument: 'fp'",
     "output_type": "error",
     "traceback": [
      "\u001b[1;31m---------------------------------------------------------------------------\u001b[0m",
      "\u001b[1;31mTypeError\u001b[0m                                 Traceback (most recent call last)",
      "\u001b[1;32md:\\Document\\Python\\ChatAPP\\backend\\testing.ipynb Cell 9\u001b[0m line \u001b[0;36m1\n\u001b[1;32m----> <a href='vscode-notebook-cell:/d%3A/Document/Python/ChatAPP/backend/testing.ipynb#X21sZmlsZQ%3D%3D?line=0'>1</a>\u001b[0m json\u001b[39m.\u001b[39;49mdump([\u001b[39mlist\u001b[39;49m(row) \u001b[39mfor\u001b[39;49;00m row \u001b[39min\u001b[39;49;00m rows])\n",
      "\u001b[1;31mTypeError\u001b[0m: dump() missing 1 required positional argument: 'fp'"
     ]
    }
   ],
   "source": [
    "json.dump([list(row) for row in rows])"
   ]
  }
 ],
 "metadata": {
  "kernelspec": {
   "display_name": "venv",
   "language": "python",
   "name": "python3"
  },
  "language_info": {
   "codemirror_mode": {
    "name": "ipython",
    "version": 3
   },
   "file_extension": ".py",
   "mimetype": "text/x-python",
   "name": "python",
   "nbconvert_exporter": "python",
   "pygments_lexer": "ipython3",
   "version": "3.11.2"
  },
  "orig_nbformat": 4
 },
 "nbformat": 4,
 "nbformat_minor": 2
}
